{
 "cells": [
  {
   "cell_type": "code",
   "execution_count": 24,
   "metadata": {},
   "outputs": [],
   "source": [
    "from preamble import *"
   ]
  },
  {
   "cell_type": "code",
   "execution_count": 25,
   "metadata": {},
   "outputs": [],
   "source": [
    "food1 = pd.read_csv('data/1.csv', encoding='cp949')"
   ]
  },
  {
   "cell_type": "code",
   "execution_count": 26,
   "metadata": {},
   "outputs": [
    {
     "name": "stdout",
     "output_type": "stream",
     "text": [
      "<class 'pandas.core.frame.DataFrame'>\n",
      "RangeIndex: 3606 entries, 0 to 3605\n",
      "Data columns (total 55 columns):\n",
      " #   Column         Non-Null Count  Dtype  \n",
      "---  ------         --------------  -----  \n",
      " 0   식품코드           3606 non-null   object \n",
      " 1   식품명            3606 non-null   object \n",
      " 2   데이터구분코드        3606 non-null   object \n",
      " 3   데이터구분명         3606 non-null   object \n",
      " 4   식품기원코드         3606 non-null   int64  \n",
      " 5   식품기원명          3606 non-null   object \n",
      " 6   식품대분류코드        3606 non-null   int64  \n",
      " 7   식품대분류명         3606 non-null   object \n",
      " 8   대표식품코드         3606 non-null   int64  \n",
      " 9   대표식품명          3606 non-null   object \n",
      " 10  식품중분류코드        3606 non-null   int64  \n",
      " 11  식품중분류명         3606 non-null   object \n",
      " 12  식품소분류코드        3606 non-null   int64  \n",
      " 13  식품소분류명         3606 non-null   object \n",
      " 14  식품세분류코드        3606 non-null   int64  \n",
      " 15  식품세분류명         3606 non-null   object \n",
      " 16  영양성분함량기준량      3606 non-null   object \n",
      " 17  에너지(kcal)      3606 non-null   int64  \n",
      " 18  수분(g)          3596 non-null   float64\n",
      " 19  단백질(g)         3606 non-null   float64\n",
      " 20  지방(g)          3588 non-null   float64\n",
      " 21  회분(g)          3564 non-null   float64\n",
      " 22  탄수화물(g)        3579 non-null   float64\n",
      " 23  당류(g)          1839 non-null   float64\n",
      " 24  식이섬유(g)        2040 non-null   float64\n",
      " 25  칼슘(mg)         2754 non-null   float64\n",
      " 26  철(mg)          2766 non-null   float64\n",
      " 27  인(mg)          2755 non-null   float64\n",
      " 28  칼륨(mg)         2175 non-null   float64\n",
      " 29  나트륨(mg)        2179 non-null   float64\n",
      " 30  비타민 A(μg RAE)  2220 non-null   float64\n",
      " 31  레티놀(μg)        2418 non-null   float64\n",
      " 32  베타카로틴(μg)      1923 non-null   float64\n",
      " 33  티아민(mg)        2596 non-null   float64\n",
      " 34  리보플라빈(mg)      2597 non-null   float64\n",
      " 35  니아신(mg)        2526 non-null   float64\n",
      " 36  비타민 C(mg)      2396 non-null   float64\n",
      " 37  비타민 D(μg)      1492 non-null   float64\n",
      " 38  콜레스테롤(mg)      1595 non-null   float64\n",
      " 39  포화지방산(g)       1732 non-null   float64\n",
      " 40  트랜스지방산(g)      1335 non-null   float64\n",
      " 41  폐기율(%)         2055 non-null   float64\n",
      " 42  출처코드           3606 non-null   int64  \n",
      " 43  출처명            3606 non-null   object \n",
      " 44  원산지국코드         1809 non-null   float64\n",
      " 45  수입여부           3606 non-null   object \n",
      " 46  데이터생성방법명       3606 non-null   object \n",
      " 47  원산지국명          3606 non-null   object \n",
      " 48  원산지역명          3606 non-null   object \n",
      " 49  데이터생성방법코드      3606 non-null   int64  \n",
      " 50  데이터생성일자        3606 non-null   object \n",
      " 51  생산·채취·포획월      1100 non-null   float64\n",
      " 52  데이터기준일자        3606 non-null   object \n",
      " 53  제공기관코드         3606 non-null   int64  \n",
      " 54  제공기관명          3606 non-null   object \n",
      "dtypes: float64(26), int64(10), object(19)\n",
      "memory usage: 1.5+ MB\n"
     ]
    }
   ],
   "source": [
    "food1.info()"
   ]
  },
  {
   "cell_type": "code",
   "execution_count": 27,
   "metadata": {},
   "outputs": [],
   "source": [
    "dup_idx1 = food1[food1['식품명'] == food1['식품명'].shift()].index\n",
    "dup_idx2 = dup_idx1 - 1\n",
    "dup_idx = np.unique(np.concat([dup_idx1, dup_idx2]))\n",
    "idx = food1.index.delete(dup_idx)\n",
    "# idx.delete(dup_idx2)"
   ]
  },
  {
   "cell_type": "code",
   "execution_count": 28,
   "metadata": {},
   "outputs": [
    {
     "data": {
      "text/plain": [
       "(18, 3588)"
      ]
     },
     "execution_count": 28,
     "metadata": {},
     "output_type": "execute_result"
    }
   ],
   "source": [
    "dup_idx.size, idx.size"
   ]
  },
  {
   "cell_type": "code",
   "execution_count": 29,
   "metadata": {},
   "outputs": [],
   "source": [
    "food1.loc[dup_idx, 'name'] = food1['식품명'] + '[' + food1['원산지국명'] + ']'\n",
    "food1.loc[idx, 'name'] = food1['식품명']"
   ]
  },
  {
   "cell_type": "code",
   "execution_count": 30,
   "metadata": {},
   "outputs": [],
   "source": [
    "data1 = food1[['식품코드', 'name', '대표식품코드']].rename(columns={'식품코드':'code', '대표식품코드':'pcode'})\n",
    "data2 = food1[['대표식품코드', '대표식품명', '식품대분류코드']].rename(columns={'대표식품코드':'code', '식품대분류코드':'pcode', '대표식품명':'name'})\n",
    "data3 = food1[['식품대분류코드', '식품대분류명']].rename(columns={'식품대분류명':'name', '식품대분류코드':'code'})"
   ]
  },
  {
   "cell_type": "code",
   "execution_count": 31,
   "metadata": {},
   "outputs": [],
   "source": [
    "food = pd.concat([data1, data2, data3], ignore_index=True).drop_duplicates(ignore_index=True)"
   ]
  },
  {
   "cell_type": "code",
   "execution_count": 32,
   "metadata": {},
   "outputs": [
    {
     "data": {
      "text/html": [
       "<div>\n",
       "<style scoped>\n",
       "    .dataframe tbody tr th:only-of-type {\n",
       "        vertical-align: middle;\n",
       "    }\n",
       "\n",
       "    .dataframe tbody tr th {\n",
       "        vertical-align: top;\n",
       "    }\n",
       "\n",
       "    .dataframe thead th {\n",
       "        text-align: right;\n",
       "    }\n",
       "</style>\n",
       "<table border=\"1\" class=\"dataframe\">\n",
       "  <thead>\n",
       "    <tr style=\"text-align: right;\">\n",
       "      <th></th>\n",
       "      <th>code</th>\n",
       "      <th>name</th>\n",
       "      <th>pcode</th>\n",
       "    </tr>\n",
       "  </thead>\n",
       "  <tbody>\n",
       "    <tr>\n",
       "      <th>0</th>\n",
       "      <td>R101-003000101-0000</td>\n",
       "      <td>기장_도정_생것</td>\n",
       "      <td>1003.0</td>\n",
       "    </tr>\n",
       "    <tr>\n",
       "      <th>1</th>\n",
       "      <td>R101-003010101-0000</td>\n",
       "      <td>기장_찰기장_도정_생것</td>\n",
       "      <td>1003.0</td>\n",
       "    </tr>\n",
       "    <tr>\n",
       "      <th>2</th>\n",
       "      <td>R101-003020101-0000</td>\n",
       "      <td>기장_찰기장+이백찰_도정_생것</td>\n",
       "      <td>1003.0</td>\n",
       "    </tr>\n",
       "    <tr>\n",
       "      <th>3</th>\n",
       "      <td>R101-003030101-0000</td>\n",
       "      <td>기장_찰기장+한라찰_도정_생것</td>\n",
       "      <td>1003.0</td>\n",
       "    </tr>\n",
       "    <tr>\n",
       "      <th>4</th>\n",
       "      <td>R101-003040101-0000</td>\n",
       "      <td>기장_찰기장+황실찰_도정_생것</td>\n",
       "      <td>1003.0</td>\n",
       "    </tr>\n",
       "    <tr>\n",
       "      <th>...</th>\n",
       "      <td>...</td>\n",
       "      <td>...</td>\n",
       "      <td>...</td>\n",
       "    </tr>\n",
       "    <tr>\n",
       "      <th>4334</th>\n",
       "      <td>10</td>\n",
       "      <td>난류</td>\n",
       "      <td>0.0</td>\n",
       "    </tr>\n",
       "    <tr>\n",
       "      <th>4335</th>\n",
       "      <td>18</td>\n",
       "      <td>조미료류</td>\n",
       "      <td>0.0</td>\n",
       "    </tr>\n",
       "    <tr>\n",
       "      <th>4336</th>\n",
       "      <td>15</td>\n",
       "      <td>차류</td>\n",
       "      <td>0.0</td>\n",
       "    </tr>\n",
       "    <tr>\n",
       "      <th>4337</th>\n",
       "      <td>14</td>\n",
       "      <td>유지류</td>\n",
       "      <td>0.0</td>\n",
       "    </tr>\n",
       "    <tr>\n",
       "      <th>4338</th>\n",
       "      <td>13</td>\n",
       "      <td>우유류</td>\n",
       "      <td>0.0</td>\n",
       "    </tr>\n",
       "  </tbody>\n",
       "</table>\n",
       "<p>4339 rows × 3 columns</p>\n",
       "</div>"
      ],
      "text/plain": [
       "                     code              name   pcode\n",
       "0     R101-003000101-0000          기장_도정_생것  1003.0\n",
       "1     R101-003010101-0000      기장_찰기장_도정_생것  1003.0\n",
       "2     R101-003020101-0000  기장_찰기장+이백찰_도정_생것  1003.0\n",
       "3     R101-003030101-0000  기장_찰기장+한라찰_도정_생것  1003.0\n",
       "4     R101-003040101-0000  기장_찰기장+황실찰_도정_생것  1003.0\n",
       "...                   ...               ...     ...\n",
       "4334                   10                난류     0.0\n",
       "4335                   18              조미료류     0.0\n",
       "4336                   15                차류     0.0\n",
       "4337                   14               유지류     0.0\n",
       "4338                   13               우유류     0.0\n",
       "\n",
       "[4339 rows x 3 columns]"
      ]
     },
     "execution_count": 32,
     "metadata": {},
     "output_type": "execute_result"
    }
   ],
   "source": [
    "food.fillna(0)"
   ]
  },
  {
   "cell_type": "code",
   "execution_count": 33,
   "metadata": {},
   "outputs": [],
   "source": [
    "food.to_csv(index=False, path_or_buf='data/food1.csv', encoding='utf-8-sig')"
   ]
  },
  {
   "cell_type": "code",
   "execution_count": null,
   "metadata": {},
   "outputs": [],
   "source": []
  }
 ],
 "metadata": {
  "kernelspec": {
   "display_name": "Python 3",
   "language": "python",
   "name": "python3"
  },
  "language_info": {
   "codemirror_mode": {
    "name": "ipython",
    "version": 3
   },
   "file_extension": ".py",
   "mimetype": "text/x-python",
   "name": "python",
   "nbconvert_exporter": "python",
   "pygments_lexer": "ipython3",
   "version": "3.13.0"
  }
 },
 "nbformat": 4,
 "nbformat_minor": 2
}
